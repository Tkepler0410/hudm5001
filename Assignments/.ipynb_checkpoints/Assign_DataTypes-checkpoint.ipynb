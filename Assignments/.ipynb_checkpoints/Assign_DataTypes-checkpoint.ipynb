{
 "cells": [
  {
   "cell_type": "markdown",
   "id": "150b4f4d-13a2-4b0d-adab-6a93e76b7aeb",
   "metadata": {},
   "source": [
    "# Assignment: Data Types"
   ]
  },
  {
   "cell_type": "markdown",
   "id": "4f66c94f-e27d-4b8d-9260-c3e1431b7d11",
   "metadata": {},
   "source": [
    "name: Theresa Zhao\n",
    "\n",
    "UNI ID: tz2579"
   ]
  },
  {
   "cell_type": "markdown",
   "id": "babd6153-3296-408f-adc3-0e270e1418c9",
   "metadata": {},
   "source": [
    "## Questions 1-3 use Table 1"
   ]
  },
  {
   "cell_type": "code",
   "execution_count": 8,
   "id": "adf44dec-62c5-496f-a54f-c2a6eb437333",
   "metadata": {},
   "outputs": [],
   "source": [
    "# 1"
   ]
  },
  {
   "cell_type": "code",
   "execution_count": 1,
   "id": "db59b78f-588d-4d4e-8975-88b69f85b491",
   "metadata": {},
   "outputs": [
    {
     "name": "stdout",
     "output_type": "stream",
     "text": [
      "{'Jon': 95, 'Mike': 84, 'Jaime': 99}\n"
     ]
    }
   ],
   "source": [
    "gradebook = {'Jon': 95, \n",
    "             'Mike': 84,\n",
    "             'Jaime': 99}\n",
    "print(gradebook)"
   ]
  },
  {
   "cell_type": "code",
   "execution_count": 9,
   "id": "42563787-d24c-4403-891b-08d8b1157086",
   "metadata": {},
   "outputs": [],
   "source": [
    "# 2"
   ]
  },
  {
   "cell_type": "code",
   "execution_count": 2,
   "id": "9762ec38-699e-4531-91f4-6d6529813441",
   "metadata": {},
   "outputs": [
    {
     "data": {
      "text/plain": [
       "84"
      ]
     },
     "execution_count": 2,
     "metadata": {},
     "output_type": "execute_result"
    }
   ],
   "source": [
    "gradebook['Mike']"
   ]
  },
  {
   "cell_type": "code",
   "execution_count": 10,
   "id": "c3e415c7-fb8f-4ab7-bf1d-7a88286bbc06",
   "metadata": {},
   "outputs": [],
   "source": [
    "# 3"
   ]
  },
  {
   "cell_type": "code",
   "execution_count": 3,
   "id": "a66db623-aa32-4510-8f72-b004dd212a6b",
   "metadata": {},
   "outputs": [
    {
     "ename": "KeyError",
     "evalue": "'Jeff'",
     "output_type": "error",
     "traceback": [
      "\u001b[0;31m---------------------------------------------------------------------------\u001b[0m",
      "\u001b[0;31mKeyError\u001b[0m                                  Traceback (most recent call last)",
      "Cell \u001b[0;32mIn[3], line 1\u001b[0m\n\u001b[0;32m----> 1\u001b[0m gradebook[\u001b[38;5;124m'\u001b[39m\u001b[38;5;124mJeff\u001b[39m\u001b[38;5;124m'\u001b[39m]\n",
      "\u001b[0;31mKeyError\u001b[0m: 'Jeff'"
     ]
    }
   ],
   "source": [
    "gradebook['Jeff']"
   ]
  },
  {
   "cell_type": "markdown",
   "id": "c6987e7e-5210-4119-808e-e8acb94e97b8",
   "metadata": {},
   "source": [
    "## Questions 4-7c use Table 2."
   ]
  },
  {
   "cell_type": "code",
   "execution_count": 20,
   "id": "1b442aef-7b48-491a-87d0-3c4d1e8ae961",
   "metadata": {},
   "outputs": [],
   "source": [
    "# 4"
   ]
  },
  {
   "cell_type": "code",
   "execution_count": 7,
   "id": "b48553ab-fe4a-417d-822c-482d65c063cd",
   "metadata": {},
   "outputs": [
    {
     "name": "stdout",
     "output_type": "stream",
     "text": [
      "['Alex', 'Patrick', 'Tom', 'Joe', 'Alex']\n"
     ]
    }
   ],
   "source": [
    "names = ['Alex', 'Patrick', 'Tom', 'Joe', 'Alex']\n",
    "print(names)"
   ]
  },
  {
   "cell_type": "code",
   "execution_count": 21,
   "id": "c68bc40c-c640-4aea-845f-b5486341be24",
   "metadata": {},
   "outputs": [],
   "source": [
    "# 5"
   ]
  },
  {
   "cell_type": "code",
   "execution_count": 19,
   "id": "41645849-b7a4-4d62-a362-60c6923dd86f",
   "metadata": {},
   "outputs": [
    {
     "name": "stdout",
     "output_type": "stream",
     "text": [
      "['Alex', 'Alex', 'Joe', 'Patrick', 'Tom']\n"
     ]
    }
   ],
   "source": [
    "names.sort()\n",
    "print(names)"
   ]
  },
  {
   "cell_type": "code",
   "execution_count": 22,
   "id": "20ce17f0-5033-46aa-8e6d-bd43d094a6e7",
   "metadata": {},
   "outputs": [],
   "source": [
    "# 6"
   ]
  },
  {
   "cell_type": "code",
   "execution_count": 24,
   "id": "429f6f85-ccf3-484e-8223-4fa30a580e32",
   "metadata": {},
   "outputs": [
    {
     "name": "stdout",
     "output_type": "stream",
     "text": [
      "{'Joe', 'Patrick', 'Tom', 'Alex'}\n"
     ]
    }
   ],
   "source": [
    "name_set = {'Alex', 'Patrick', 'Tom', 'Joe', 'Alex'}\n",
    "print(name_set)"
   ]
  },
  {
   "cell_type": "code",
   "execution_count": 30,
   "id": "09cd0047-cd49-4a38-9d8b-6faa51c0de17",
   "metadata": {},
   "outputs": [],
   "source": [
    "# 7a"
   ]
  },
  {
   "cell_type": "code",
   "execution_count": 26,
   "id": "549a8f3c-ebf3-4984-b304-2573d9ee9d6e",
   "metadata": {},
   "outputs": [
    {
     "name": "stdout",
     "output_type": "stream",
     "text": [
      "[2, 4, 1, 3, 1]\n"
     ]
    }
   ],
   "source": [
    "td = [2, 4, 1, 3, 1]\n",
    "print(td)"
   ]
  },
  {
   "cell_type": "code",
   "execution_count": null,
   "id": "d92b70e7-d5bb-49b4-95e7-dae3170efeac",
   "metadata": {},
   "outputs": [],
   "source": [
    "# 7b"
   ]
  },
  {
   "cell_type": "code",
   "execution_count": 33,
   "id": "0b0f1f26-0328-424e-a105-80f4e516c6a9",
   "metadata": {},
   "outputs": [
    {
     "name": "stdout",
     "output_type": "stream",
     "text": [
      "[1, 3, 1]\n"
     ]
    }
   ],
   "source": [
    "odd_td = [x for x in td if x % 2 == 1]\n",
    "print(odd_td)"
   ]
  },
  {
   "cell_type": "code",
   "execution_count": 36,
   "id": "2b97653e-7c52-4a32-b55a-d36a138192e5",
   "metadata": {},
   "outputs": [],
   "source": [
    "# 7c"
   ]
  },
  {
   "cell_type": "code",
   "execution_count": 37,
   "id": "0e42e22e-3be7-4a26-98ef-fbdb532c42d5",
   "metadata": {},
   "outputs": [
    {
     "name": "stdout",
     "output_type": "stream",
     "text": [
      "[2, 4, 3]\n"
     ]
    }
   ],
   "source": [
    "greater_than_one_td = [x for x in td if x > 1]\n",
    "print(greater_than_one_td)"
   ]
  }
 ],
 "metadata": {
  "kernelspec": {
   "display_name": "Python 3 (ipykernel)",
   "language": "python",
   "name": "python3"
  },
  "language_info": {
   "codemirror_mode": {
    "name": "ipython",
    "version": 3
   },
   "file_extension": ".py",
   "mimetype": "text/x-python",
   "name": "python",
   "nbconvert_exporter": "python",
   "pygments_lexer": "ipython3",
   "version": "3.12.4"
  }
 },
 "nbformat": 4,
 "nbformat_minor": 5
}
